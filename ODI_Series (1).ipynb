{
 "cells": [
  {
   "cell_type": "code",
   "execution_count": 1,
   "metadata": {
    "collapsed": true
   },
   "outputs": [],
   "source": [
    "#To plot diagrams or visualizations\n",
    "import matplotlib.pyplot as plt\n",
    "#A python library for array operations\n",
    "import numpy as np\n",
    "#A python library for data analysis\n",
    "import pandas as pd\n",
    "\n",
    "#For splitting data\n",
    "from sklearn.cross_validation import train_test_split, cross_val_score, cross_val_predict, KFold\n",
    "\n",
    "\n",
    "from sklearn.metrics import accuracy_score \n",
    "\n",
    "from sklearn.ensemble import RandomForestRegressor\n",
    "\n",
    "from sklearn.tree import DecisionTreeClassifier\n",
    "\n",
    "from sklearn.linear_model import LinearRegression\n"
   ]
  },
  {
   "cell_type": "code",
   "execution_count": 2,
   "metadata": {
    "collapsed": false
   },
   "outputs": [],
   "source": [
    "df = pd.read_csv(\"prediction.csv\")"
   ]
  },
  {
   "cell_type": "code",
   "execution_count": 3,
   "metadata": {
    "collapsed": false,
    "scrolled": true
   },
   "outputs": [
    {
     "data": {
      "text/html": [
       "<div>\n",
       "<table border=\"1\" class=\"dataframe\">\n",
       "  <thead>\n",
       "    <tr style=\"text-align: right;\">\n",
       "      <th></th>\n",
       "      <th>team1</th>\n",
       "      <th>team2</th>\n",
       "      <th>season</th>\n",
       "      <th>date</th>\n",
       "      <th>competition</th>\n",
       "      <th>match_number</th>\n",
       "      <th>Ground</th>\n",
       "      <th>city</th>\n",
       "      <th>Nutral Venu</th>\n",
       "      <th>toss_winner</th>\n",
       "      <th>toss_decision</th>\n",
       "      <th>player_of_match</th>\n",
       "      <th>winner_runs</th>\n",
       "      <th>Winner</th>\n",
       "    </tr>\n",
       "  </thead>\n",
       "  <tbody>\n",
       "    <tr>\n",
       "      <th>0</th>\n",
       "      <td>Pakistan</td>\n",
       "      <td>Bangladesh</td>\n",
       "      <td>2008</td>\n",
       "      <td>7/4/2008</td>\n",
       "      <td>Asia Cup</td>\n",
       "      <td>12.0</td>\n",
       "      <td>National Stadium</td>\n",
       "      <td>Karachi</td>\n",
       "      <td>0</td>\n",
       "      <td>Bangladesh</td>\n",
       "      <td>bat</td>\n",
       "      <td>Abdur Rauf</td>\n",
       "      <td>10.0</td>\n",
       "      <td>Pakistan</td>\n",
       "    </tr>\n",
       "    <tr>\n",
       "      <th>1</th>\n",
       "      <td>Pakistan</td>\n",
       "      <td>Hong Kong</td>\n",
       "      <td>2008</td>\n",
       "      <td>6/24/2008</td>\n",
       "      <td>Asia Cup</td>\n",
       "      <td>2.0</td>\n",
       "      <td>National Stadium</td>\n",
       "      <td>Karachi</td>\n",
       "      <td>0</td>\n",
       "      <td>Pakistan</td>\n",
       "      <td>bat</td>\n",
       "      <td>Sohail Tanvir</td>\n",
       "      <td>155.0</td>\n",
       "      <td>Pakistan</td>\n",
       "    </tr>\n",
       "    <tr>\n",
       "      <th>2</th>\n",
       "      <td>Pakistan</td>\n",
       "      <td>India</td>\n",
       "      <td>2008</td>\n",
       "      <td>6/26/2008</td>\n",
       "      <td>Asia Cup</td>\n",
       "      <td>5.0</td>\n",
       "      <td>National Stadium</td>\n",
       "      <td>Karachi</td>\n",
       "      <td>0</td>\n",
       "      <td>Pakistan</td>\n",
       "      <td>bat</td>\n",
       "      <td>SK Raina</td>\n",
       "      <td>6.0</td>\n",
       "      <td>India</td>\n",
       "    </tr>\n",
       "    <tr>\n",
       "      <th>3</th>\n",
       "      <td>Pakistan</td>\n",
       "      <td>Sri Lanka</td>\n",
       "      <td>2008</td>\n",
       "      <td>6/29/2008</td>\n",
       "      <td>Asia Cup</td>\n",
       "      <td>8.0</td>\n",
       "      <td>National Stadium</td>\n",
       "      <td>Karachi</td>\n",
       "      <td>0</td>\n",
       "      <td>Pakistan</td>\n",
       "      <td>field</td>\n",
       "      <td>KC Sangakkara</td>\n",
       "      <td>64.0</td>\n",
       "      <td>Sri Lanka</td>\n",
       "    </tr>\n",
       "    <tr>\n",
       "      <th>4</th>\n",
       "      <td>Pakistan</td>\n",
       "      <td>India</td>\n",
       "      <td>2008</td>\n",
       "      <td>7/2/2008</td>\n",
       "      <td>Asia Cup</td>\n",
       "      <td>10.0</td>\n",
       "      <td>National Stadium</td>\n",
       "      <td>Karachi</td>\n",
       "      <td>0</td>\n",
       "      <td>India</td>\n",
       "      <td>bat</td>\n",
       "      <td>Younis Khan</td>\n",
       "      <td>8.0</td>\n",
       "      <td>Pakistan</td>\n",
       "    </tr>\n",
       "  </tbody>\n",
       "</table>\n",
       "</div>"
      ],
      "text/plain": [
       "      team1       team2  season       date competition  match_number  \\\n",
       "0  Pakistan  Bangladesh    2008   7/4/2008    Asia Cup          12.0   \n",
       "1  Pakistan   Hong Kong    2008  6/24/2008    Asia Cup           2.0   \n",
       "2  Pakistan       India    2008  6/26/2008    Asia Cup           5.0   \n",
       "3  Pakistan   Sri Lanka    2008  6/29/2008    Asia Cup           8.0   \n",
       "4  Pakistan       India    2008   7/2/2008    Asia Cup          10.0   \n",
       "\n",
       "             Ground     city  Nutral Venu toss_winner toss_decision  \\\n",
       "0  National Stadium  Karachi            0  Bangladesh           bat   \n",
       "1  National Stadium  Karachi            0    Pakistan           bat   \n",
       "2  National Stadium  Karachi            0    Pakistan           bat   \n",
       "3  National Stadium  Karachi            0    Pakistan         field   \n",
       "4  National Stadium  Karachi            0       India           bat   \n",
       "\n",
       "  player_of_match  winner_runs     Winner  \n",
       "0      Abdur Rauf         10.0   Pakistan  \n",
       "1   Sohail Tanvir        155.0   Pakistan  \n",
       "2        SK Raina          6.0      India  \n",
       "3   KC Sangakkara         64.0  Sri Lanka  \n",
       "4     Younis Khan          8.0   Pakistan  "
      ]
     },
     "execution_count": 3,
     "metadata": {},
     "output_type": "execute_result"
    }
   ],
   "source": [
    "df.head()"
   ]
  },
  {
   "cell_type": "code",
   "execution_count": 4,
   "metadata": {
    "collapsed": false
   },
   "outputs": [],
   "source": [
    "df = df.drop(['player_of_match'], axis = 1)\n",
    "df = df.drop(['date'], axis = 1)"
   ]
  },
  {
   "cell_type": "code",
   "execution_count": 5,
   "metadata": {
    "collapsed": false
   },
   "outputs": [],
   "source": [
    "df = df.replace({'team1': 'Afghanistan', 'team2': 'Afghanistan'}, 0)\n",
    "df = df.replace({'team1': 'Australia', 'team2': 'Australia'}, 1)\n",
    "df = df.replace({'team1': 'Bangladesh', 'team2': 'Bangladesh'}, 2)\n",
    "df = df.replace({'team1': 'Canada', 'team2': 'Canada'}, 3)\n",
    "df = df.replace({'team1': 'England', 'team2': 'England'}, 4)\n",
    "df = df.replace({'team1': 'India', 'team2': 'India'}, 5)\n",
    "df = df.replace({'team1': 'Ireland', 'team2': 'Ireland'}, 6)\n",
    "df = df.replace({'team1': 'Kenya', 'team2': 'Kenya'}, 7)\n",
    "df = df.replace({'team1': 'New Zealand', 'team2': 'New Zealand'}, 8)\n",
    "df = df.replace({'team1': 'Pakistan', 'team2': 'Pakistan'}, 9)\n",
    "df = df.replace({'team1': 'Scotland', 'team2': 'Scotland'}, 10)\n",
    "df = df.replace({'team1': 'South Africa', 'team2': 'South Africa'}, 11)\n",
    "df = df.replace({'team1': 'Sri Lanka', 'team2': 'Sri Lanka'}, 12)\n",
    "df = df.replace({'team1': 'West Indies', 'team2': 'West Indies'}, 13)\n",
    "df = df.replace({'team1': 'Zimbabwe', 'team2': 'Zimbabwe'}, 14)\n",
    "df = df.replace({'team1': 'Hong Kong', 'team2': 'Hong Kong'}, 15)\n",
    "df = df.replace({'team1': 'United Arab Emirates', 'team2': 'United Arab Emirates'}, 16)"
   ]
  },
  {
   "cell_type": "code",
   "execution_count": 6,
   "metadata": {
    "collapsed": false
   },
   "outputs": [
    {
     "data": {
      "text/plain": [
       "category"
      ]
     },
     "execution_count": 6,
     "metadata": {},
     "output_type": "execute_result"
    }
   ],
   "source": [
    "df.team1 = df.team1.astype('category')\n",
    "df.team2 = df.team2.astype('category')\n",
    "df.team2.dtype"
   ]
  },
  {
   "cell_type": "code",
   "execution_count": 7,
   "metadata": {
    "collapsed": false
   },
   "outputs": [
    {
     "data": {
      "text/plain": [
       "array(['Asia Cup', 'Kitply Cup', 'ODI Series', 'NatWest Series',\n",
       "       'ICC Champions Trophy', 'ICC World Cup', 'DLF Cup'], dtype=object)"
      ]
     },
     "execution_count": 7,
     "metadata": {},
     "output_type": "execute_result"
    }
   ],
   "source": [
    "df.competition.unique()"
   ]
  },
  {
   "cell_type": "code",
   "execution_count": 8,
   "metadata": {
    "collapsed": false
   },
   "outputs": [],
   "source": [
    "df.competition = pd.Categorical(df.competition, ['Asia Cup', 'Kitply Cup', 'ODI Series', 'NatWest Series', \n",
    "                                                 'ICC Champions Trophy', 'ICC World Cup', 'DLF Cup'], ordered = True)\n",
    "df.competition = df.competition.cat.codes"
   ]
  },
  {
   "cell_type": "code",
   "execution_count": null,
   "metadata": {
    "collapsed": false
   },
   "outputs": [],
   "source": []
  },
  {
   "cell_type": "code",
   "execution_count": 9,
   "metadata": {
    "collapsed": false
   },
   "outputs": [],
   "source": [
    "df.toss_decision = pd.Categorical(df.toss_decision, ['field', 'bat'], ordered = True)\n",
    "df.toss_decision = df.toss_decision.cat.codes"
   ]
  },
  {
   "cell_type": "code",
   "execution_count": 10,
   "metadata": {
    "collapsed": false
   },
   "outputs": [],
   "source": [
    "df.city = pd.Categorical(df.city, ['Karachi', 'Mirpur', 'Dubai', 'Abu Dhabi', 'Dumbulla', 'Colombo',\n",
    "                                   'Chester-le-Street', 'Leeds', 'London', 'Southampton', 'Bulawayo',\n",
    "                                   'Harare', 'St Lucia', 'Barbados', 'Guyana', 'United Arab Emirates',\n",
    "                                   'Kandy', 'Birmingham', 'Edinburgh', 'Dublin', 'Hambantota',\n",
    "                                   'Lahore', 'Nottingham', 'Cardiff', 'Manchester', 'Taunton',\n",
    "                                   'Rawalpindi', 'Jamaica', 'Jaipur', 'Chandigarh', 'Centurion',\n",
    "                                   'Durban', 'Port Elizabeth', 'Cape Town', 'Johannesburg',\n",
    "                                   'Faisalabad', 'Multan', 'Gwalior', 'Guwahati', 'Kanpur',\n",
    "                                   'Sheikhupura', 'Parklands', 'Perth', 'Brisbane', 'Sydney',\n",
    "                                   'Wellington', 'Auckland', 'Christchurch', 'Napier', 'Hamilton',\n",
    "                                   'Chittagong', 'Benoni', 'Bloemfontein', 'Chennai', 'Kolkata',\n",
    "                                   'Delhi', 'Fatullah'], ordered = True)\n",
    "df.city = df.city.cat.codes"
   ]
  },
  {
   "cell_type": "code",
   "execution_count": 11,
   "metadata": {
    "collapsed": false
   },
   "outputs": [],
   "source": [
    "df.toss_winner = pd.Categorical(df.toss_winner, ['Bangladesh', 'Pakistan', 'India', 'Australia', 'Sri Lanka',\n",
    "                                                 'England', 'Zimbabwe', 'West Indies', 'South Africa', 'Ireland',\n",
    "                                                 'New Zealand', 'Afghanistan', 'United Arab Emirates'], ordered = True)\n",
    "df.toss_winner = df.toss_winner.cat.codes"
   ]
  },
  {
   "cell_type": "code",
   "execution_count": 12,
   "metadata": {
    "collapsed": false
   },
   "outputs": [],
   "source": [
    "df.Winner = pd.Categorical(df.Winner, ['Pakistan', 'India', 'Sri Lanka', 'Australia', 'England',\n",
    "                                       'West Indies', 'tie', 'South Africa', 'Zimbabwe', 'Bangladesh',\n",
    "                                       'Ireland', 'New Zealand'], ordered = True)\n",
    "df.Winner = df.Winner.cat.codes"
   ]
  },
  {
   "cell_type": "code",
   "execution_count": 13,
   "metadata": {
    "collapsed": false
   },
   "outputs": [],
   "source": [
    "df.Ground = pd.Categorical(df.Ground, ['National Stadium', 'Shere Bangla National Stadium',\n",
    "                                       'Dubai Sports City Cricket Stadium', 'Sheikh Zayed Stadium',\n",
    "                                       'Rangiri Dambulla International Stadium', 'R Premadasa Stadium',\n",
    "                                       'Riverside Ground', 'Headingley', 'Kennington Oval', \"Lord's\",\n",
    "                                       'The Rose Bowl', 'Queens Sports Club', 'Harare Sports Club',\n",
    "                                       'Beausejour Stadium, Gros Islet', 'Kensington Oval, Bridgetown',\n",
    "                                       'Providence Stadium', 'Sharjah Cricket Stadium',\n",
    "                                       'Pallekele International Cricket Stadium', 'Edgbaston',\n",
    "                                       'Grange Cricket Club Ground, Raeburn Place',\n",
    "                                       'Clontarf Cricket Club Ground',\n",
    "                                       'Mahinda Rajapaksa International Cricket Stadium, Sooriyawewa',\n",
    "                                       'Gaddafi Stadium', 'The Village, Malahide', 'Trent Bridge',\n",
    "                                       'Sophia Gardens', 'Old Trafford',\n",
    "                                       'The Cooper Associates County Ground', 'Rawalpindi Cricket Stadium',\n",
    "                                       'Sinhalese Sports Club Ground', 'Sabina Park, Kingston',\n",
    "                                       'Sawai Mansingh Stadium',\n",
    "                                       'Punjab Cricket Association Stadium, Mohali', 'SuperSport Park',\n",
    "                                       'Kingsmead', \"St George's Park\", 'Newlands',\n",
    "                                       'New Wanderers Stadium', 'Iqbal Stadium', 'Multan Cricket Stadium',\n",
    "                                       'Captain Roop Singh Stadium', 'Nehru Stadium', 'Green Park',\n",
    "                                       'Sheikhupura Stadium', 'Adelaide Oval',\n",
    "                                       'Western Australia Cricket Association Ground',\n",
    "                                       'Brisbane Cricket Ground, Woolloongabba', 'Sydney Cricket Ground',\n",
    "                                       'Dubai International Cricket Stadium', 'Westpac Stadium',\n",
    "                                       'Queenstown Events Centre', 'AMI Stadium', 'McLean Park',\n",
    "                                       'Seddon Park', 'Eden Park', 'Zahur Ahmed Chowdhury Stadium',\n",
    "                                       'Willowmoore Park', 'Chevrolet Park',\n",
    "                                       'MA Chidambaram Stadium, Chepauk', 'Eden Gardens',\n",
    "                                       'Feroz Shah Kotla', 'Khan Shaheb Osman Ali Stadium', 'Hagley Oval',\n",
    "                                       'Basin Reserve', 'Melbourne Cricket Ground'], ordered = True)\n",
    "df.Ground = df.Ground.cat.codes"
   ]
  },
  {
   "cell_type": "code",
   "execution_count": 14,
   "metadata": {
    "collapsed": false
   },
   "outputs": [
    {
     "data": {
      "text/html": [
       "<div>\n",
       "<table border=\"1\" class=\"dataframe\">\n",
       "  <thead>\n",
       "    <tr style=\"text-align: right;\">\n",
       "      <th></th>\n",
       "      <th>team1</th>\n",
       "      <th>team2</th>\n",
       "      <th>season</th>\n",
       "      <th>competition</th>\n",
       "      <th>match_number</th>\n",
       "      <th>Ground</th>\n",
       "      <th>city</th>\n",
       "      <th>Nutral Venu</th>\n",
       "      <th>toss_winner</th>\n",
       "      <th>toss_decision</th>\n",
       "      <th>winner_runs</th>\n",
       "      <th>Winner</th>\n",
       "    </tr>\n",
       "  </thead>\n",
       "  <tbody>\n",
       "    <tr>\n",
       "      <th>0</th>\n",
       "      <td>9</td>\n",
       "      <td>2</td>\n",
       "      <td>2008</td>\n",
       "      <td>0</td>\n",
       "      <td>12.0</td>\n",
       "      <td>0</td>\n",
       "      <td>0</td>\n",
       "      <td>0</td>\n",
       "      <td>0</td>\n",
       "      <td>1</td>\n",
       "      <td>10.0</td>\n",
       "      <td>0</td>\n",
       "    </tr>\n",
       "    <tr>\n",
       "      <th>1</th>\n",
       "      <td>9</td>\n",
       "      <td>15</td>\n",
       "      <td>2008</td>\n",
       "      <td>0</td>\n",
       "      <td>2.0</td>\n",
       "      <td>0</td>\n",
       "      <td>0</td>\n",
       "      <td>0</td>\n",
       "      <td>1</td>\n",
       "      <td>1</td>\n",
       "      <td>155.0</td>\n",
       "      <td>0</td>\n",
       "    </tr>\n",
       "    <tr>\n",
       "      <th>2</th>\n",
       "      <td>9</td>\n",
       "      <td>5</td>\n",
       "      <td>2008</td>\n",
       "      <td>0</td>\n",
       "      <td>5.0</td>\n",
       "      <td>0</td>\n",
       "      <td>0</td>\n",
       "      <td>0</td>\n",
       "      <td>1</td>\n",
       "      <td>1</td>\n",
       "      <td>6.0</td>\n",
       "      <td>1</td>\n",
       "    </tr>\n",
       "    <tr>\n",
       "      <th>3</th>\n",
       "      <td>9</td>\n",
       "      <td>12</td>\n",
       "      <td>2008</td>\n",
       "      <td>0</td>\n",
       "      <td>8.0</td>\n",
       "      <td>0</td>\n",
       "      <td>0</td>\n",
       "      <td>0</td>\n",
       "      <td>1</td>\n",
       "      <td>0</td>\n",
       "      <td>64.0</td>\n",
       "      <td>2</td>\n",
       "    </tr>\n",
       "    <tr>\n",
       "      <th>4</th>\n",
       "      <td>9</td>\n",
       "      <td>5</td>\n",
       "      <td>2008</td>\n",
       "      <td>0</td>\n",
       "      <td>10.0</td>\n",
       "      <td>0</td>\n",
       "      <td>0</td>\n",
       "      <td>0</td>\n",
       "      <td>2</td>\n",
       "      <td>1</td>\n",
       "      <td>8.0</td>\n",
       "      <td>0</td>\n",
       "    </tr>\n",
       "  </tbody>\n",
       "</table>\n",
       "</div>"
      ],
      "text/plain": [
       "  team1 team2  season  competition  match_number  Ground  city  Nutral Venu  \\\n",
       "0     9     2    2008            0          12.0       0     0            0   \n",
       "1     9    15    2008            0           2.0       0     0            0   \n",
       "2     9     5    2008            0           5.0       0     0            0   \n",
       "3     9    12    2008            0           8.0       0     0            0   \n",
       "4     9     5    2008            0          10.0       0     0            0   \n",
       "\n",
       "   toss_winner  toss_decision  winner_runs  Winner  \n",
       "0            0              1         10.0       0  \n",
       "1            1              1        155.0       0  \n",
       "2            1              1          6.0       1  \n",
       "3            1              0         64.0       2  \n",
       "4            2              1          8.0       0  "
      ]
     },
     "execution_count": 14,
     "metadata": {},
     "output_type": "execute_result"
    }
   ],
   "source": [
    "df.head()"
   ]
  },
  {
   "cell_type": "code",
   "execution_count": 15,
   "metadata": {
    "collapsed": false
   },
   "outputs": [],
   "source": [
    "df.winner_runs = df.winner_runs.astype('O')\n",
    "#df.Winner = df.Winner.astype('O')\n",
    "#df.player_of_match = df.player_of_match.astype('O')\n",
    "#df.toss_decision = df.toss_decision.astype('O')\n",
    "#df.toss_winner = df.toss_winner.astype('O')\n",
    "#df.city = df.city.astype('O')\n",
    "#df.Ground = df.Ground.astype('O')\n",
    "df.match_number = df.match_number.astype('O')\n",
    "#df.competition = df.competition.astype('O')\n",
    "df.season = df.season.astype('O')\n",
    "#df.team2 = df.team2.astype('O')\n",
    "#df.team1 = df.team1.astype('O')"
   ]
  },
  {
   "cell_type": "code",
   "execution_count": 16,
   "metadata": {
    "collapsed": false
   },
   "outputs": [
    {
     "data": {
      "text/plain": [
       "[2, 15, 5, 12, 9, 13, 11, 14, 16]\n",
       "Categories (9, int64): [2, 15, 5, 12, ..., 13, 11, 14, 16]"
      ]
     },
     "execution_count": 16,
     "metadata": {},
     "output_type": "execute_result"
    }
   ],
   "source": [
    "df.team2.unique()"
   ]
  },
  {
   "cell_type": "code",
   "execution_count": 17,
   "metadata": {
    "collapsed": false
   },
   "outputs": [
    {
     "data": {
      "text/plain": [
       "15"
      ]
     },
     "execution_count": 17,
     "metadata": {},
     "output_type": "execute_result"
    }
   ],
   "source": [
    "len(df.team1.unique())"
   ]
  },
  {
   "cell_type": "code",
   "execution_count": 18,
   "metadata": {
    "collapsed": false
   },
   "outputs": [
    {
     "data": {
      "text/plain": [
       "2"
      ]
     },
     "execution_count": 18,
     "metadata": {},
     "output_type": "execute_result"
    }
   ],
   "source": [
    "df.isnull().values.sum()"
   ]
  },
  {
   "cell_type": "code",
   "execution_count": 19,
   "metadata": {
    "collapsed": false
   },
   "outputs": [
    {
     "name": "stdout",
     "output_type": "stream",
     "text": [
      "1\n",
      "1\n"
     ]
    }
   ],
   "source": [
    "print(df[\"match_number\"].isnull().values.sum())\n",
    "print(df[\"winner_runs\"].isnull().values.sum())"
   ]
  },
  {
   "cell_type": "code",
   "execution_count": 20,
   "metadata": {
    "collapsed": false
   },
   "outputs": [
    {
     "data": {
      "text/plain": [
       "0"
      ]
     },
     "execution_count": 20,
     "metadata": {},
     "output_type": "execute_result"
    }
   ],
   "source": [
    "df.dropna(axis=0, how='any', thresh=None, subset=None, inplace = True)\n",
    "df.isnull().values.sum()"
   ]
  },
  {
   "cell_type": "code",
   "execution_count": 21,
   "metadata": {
    "collapsed": false
   },
   "outputs": [
    {
     "name": "stderr",
     "output_type": "stream",
     "text": [
      "C:\\Program Files\\Anaconda3\\lib\\site-packages\\matplotlib\\axes\\_axes.py:6462: UserWarning: The 'normed' kwarg is deprecated, and has been replaced by the 'density' kwarg.\n",
      "  warnings.warn(\"The 'normed' kwarg is deprecated, and has been \"\n"
     ]
    },
    {
     "data": {
      "image/png": "[encoded data removed]",
      "text/plain": [
       "<Figure size 432x288 with 1 Axes>"
      ]
     },
     "metadata": {},
     "output_type": "display_data"
    }
   ],
   "source": [
    "# Histogram - Toss Winner\n",
    "\n",
    "plt.hist(df['toss_winner'], bins=12, normed=False, histtype='stepfilled', alpha=0.7)\n",
    "plt.title('Histogram - Toss Winner')\n",
    "plt.show()\n"
   ]
  },
  {
   "cell_type": "code",
   "execution_count": 22,
   "metadata": {
    "collapsed": false
   },
   "outputs": [
    {
     "name": "stderr",
     "output_type": "stream",
     "text": [
      "C:\\Program Files\\Anaconda3\\lib\\site-packages\\matplotlib\\axes\\_axes.py:6462: UserWarning: The 'normed' kwarg is deprecated, and has been replaced by the 'density' kwarg.\n",
      "  warnings.warn(\"The 'normed' kwarg is deprecated, and has been \"\n"
     ]
    },
    {
     "data": {
      "image/png": "[encoded data removed]",
      "text/plain": [
       "<Figure size 432x288 with 1 Axes>"
      ]
     },
     "metadata": {},
     "output_type": "display_data"
    }
   ],
   "source": [
    "# Histogram - Toss Decision\n",
    "\n",
    "plt.hist(df['toss_decision'], bins=2, normed=False, histtype='stepfilled', alpha=0.7)\n",
    "plt.title('Histogram - Toss Decision')\n",
    "plt.show()\n"
   ]
  },
  {
   "cell_type": "code",
   "execution_count": 23,
   "metadata": {
    "collapsed": false
   },
   "outputs": [
    {
     "name": "stderr",
     "output_type": "stream",
     "text": [
      "C:\\Program Files\\Anaconda3\\lib\\site-packages\\matplotlib\\axes\\_axes.py:6462: UserWarning: The 'normed' kwarg is deprecated, and has been replaced by the 'density' kwarg.\n",
      "  warnings.warn(\"The 'normed' kwarg is deprecated, and has been \"\n"
     ]
    },
    {
     "data": {
      "image/png": "[encoded data removed]",
      "text/plain": [
       "<Figure size 432x288 with 1 Axes>"
      ]
     },
     "metadata": {},
     "output_type": "display_data"
    }
   ],
   "source": [
    "# Histogram - City\n",
    "\n",
    "plt.hist(df['city'], bins=60, normed=False, histtype='stepfilled', alpha=0.7)\n",
    "plt.title('Histogram - City')\n",
    "plt.show()\n"
   ]
  },
  {
   "cell_type": "code",
   "execution_count": 24,
   "metadata": {
    "collapsed": false
   },
   "outputs": [
    {
     "name": "stderr",
     "output_type": "stream",
     "text": [
      "C:\\Program Files\\Anaconda3\\lib\\site-packages\\matplotlib\\axes\\_axes.py:6462: UserWarning: The 'normed' kwarg is deprecated, and has been replaced by the 'density' kwarg.\n",
      "  warnings.warn(\"The 'normed' kwarg is deprecated, and has been \"\n"
     ]
    },
    {
     "data": {
      "image/png": "[encoded data removed]",
      "text/plain": [
       "<Figure size 432x288 with 1 Axes>"
      ]
     },
     "metadata": {},
     "output_type": "display_data"
    }
   ],
   "source": [
    "# Histogram - Ground\n",
    "\n",
    "plt.hist(df['Ground'], bins=70, normed=False, histtype='stepfilled', alpha=1.0)\n",
    "plt.title('Histogram - Ground')\n",
    "plt.show()\n"
   ]
  },
  {
   "cell_type": "code",
   "execution_count": 25,
   "metadata": {
    "collapsed": false
   },
   "outputs": [],
   "source": [
    "X = df.drop('Winner',axis=1)\n",
    "y = df.Winner"
   ]
  },
  {
   "cell_type": "code",
   "execution_count": 26,
   "metadata": {
    "collapsed": true
   },
   "outputs": [],
   "source": [
    "# Feature Scaling\n",
    "from sklearn.preprocessing import StandardScaler\n",
    "\n",
    "sc = StandardScaler()\n",
    "X_train = sc.fit_transform(X)"
   ]
  },
  {
   "cell_type": "code",
   "execution_count": 27,
   "metadata": {
    "collapsed": true
   },
   "outputs": [],
   "source": [
    "X_train, X_test, y_train, y_test = train_test_split(X, y, test_size = 0.2)"
   ]
  },
  {
   "cell_type": "code",
   "execution_count": 28,
   "metadata": {
    "collapsed": false
   },
   "outputs": [
    {
     "data": {
      "text/plain": [
       "(203, 11)"
      ]
     },
     "execution_count": 28,
     "metadata": {},
     "output_type": "execute_result"
    }
   ],
   "source": [
    "X_train.shape"
   ]
  },
  {
   "cell_type": "code",
   "execution_count": null,
   "metadata": {
    "collapsed": true
   },
   "outputs": [],
   "source": []
  },
  {
   "cell_type": "code",
   "execution_count": 29,
   "metadata": {
    "collapsed": false
   },
   "outputs": [
    {
     "data": {
      "text/plain": [
       "(51, 11)"
      ]
     },
     "execution_count": 29,
     "metadata": {},
     "output_type": "execute_result"
    }
   ],
   "source": [
    "X_test.shape"
   ]
  },
  {
   "cell_type": "code",
   "execution_count": 30,
   "metadata": {
    "collapsed": false
   },
   "outputs": [
    {
     "name": "stdout",
     "output_type": "stream",
     "text": [
      "0.890417831728\n",
      "0.887659028728\n"
     ]
    }
   ],
   "source": [
    "rfc = RandomForestRegressor(n_estimators=20, random_state=0)\n",
    "rfc.fit(X, y)\n",
    "# print(model.score(np.nan_to_num(X),Y))\n",
    "print(rfc.score(np.nan_to_num(X_train),y_train))\n",
    "print(rfc.score(np.nan_to_num(X_test),y_test))"
   ]
  },
  {
   "cell_type": "code",
   "execution_count": 31,
   "metadata": {
    "collapsed": false
   },
   "outputs": [
    {
     "name": "stdout",
     "output_type": "stream",
     "text": [
      "0.887659028728\n"
     ]
    }
   ],
   "source": [
    "#To find accuracy of this model\n",
    "accuracy = rfc.score(X_test,y_test)\n",
    "print(accuracy)"
   ]
  },
  {
   "cell_type": "code",
   "execution_count": 32,
   "metadata": {
    "collapsed": true
   },
   "outputs": [],
   "source": [
    "X_new = [(9, 2, 2008, 0, 12.0, 0, 0, 0, 0, 1, 10.0)]"
   ]
  },
  {
   "cell_type": "code",
   "execution_count": 33,
   "metadata": {
    "collapsed": true
   },
   "outputs": [],
   "source": [
    "y_new = rfc.predict(X_new)"
   ]
  },
  {
   "cell_type": "code",
   "execution_count": 34,
   "metadata": {
    "collapsed": false
   },
   "outputs": [
    {
     "name": "stdout",
     "output_type": "stream",
     "text": [
      "[ 0.05]\n"
     ]
    }
   ],
   "source": [
    "print(y_new)"
   ]
  },
  {
   "cell_type": "code",
   "execution_count": 35,
   "metadata": {
    "collapsed": false
   },
   "outputs": [
    {
     "name": "stdout",
     "output_type": "stream",
     "text": [
      "Pakistan\n"
     ]
    }
   ],
   "source": [
    "if y_new <= 0.5:\n",
    "    print('Pakistan')\n",
    "elif y_new > 0.5 or y_new <= 1.5:\n",
    "    print('India')\n",
    "elif y_new > 1.5 or y_new <= 2.5:\n",
    "    print('Sri Lanka')\n",
    "elif y_new > 2.5 or y_new <= 3.5:\n",
    "    print('Australia')\n",
    "elif y_new > 3.5 or y_new <= 4.5:\n",
    "    print('England')\n",
    "elif y_new > 4.5 or y_new <= 5.5:\n",
    "    print('West Indies')\n",
    "elif y_new > 5.5 or y_new <= 6.5:\n",
    "    print('tie')\n",
    "elif y_new > 6.5 or y_new <= 7.5:\n",
    "    print('South Africa')\n",
    "elif y_new > 7.5 or y_new <= 8.5:\n",
    "    print('Zimbabwe')\n",
    "elif y_new > 8.5 or y_new <= 9.5:\n",
    "    print('Bangladesh')\n",
    "elif y_new > 9.5 or y_new <= 10.5:\n",
    "    print('Ireland')\n",
    "elif y_new > 10.5 or y_new <= 11.5:\n",
    "    print('New Zealand')"
   ]
  },
  {
   "cell_type": "code",
   "execution_count": null,
   "metadata": {
    "collapsed": false
   },
   "outputs": [],
   "source": []
  },
  {
   "cell_type": "code",
   "execution_count": 36,
   "metadata": {
    "collapsed": false
   },
   "outputs": [
    {
     "name": "stdout",
     "output_type": "stream",
     "text": [
      "0.576354679803\n",
      "0.607843137255\n"
     ]
    }
   ],
   "source": [
    "clf_gini = DecisionTreeClassifier(criterion = \"gini\", random_state = 100,\n",
    "                               max_depth=3, min_samples_leaf=5)\n",
    "clf_gini.fit(X, y)\n",
    "\n",
    "print(clf_gini.score(np.nan_to_num(X_train),y_train))\n",
    "print(clf_gini.score(np.nan_to_num(X_test),y_test))"
   ]
  },
  {
   "cell_type": "code",
   "execution_count": 37,
   "metadata": {
    "collapsed": false
   },
   "outputs": [
    {
     "name": "stdout",
     "output_type": "stream",
     "text": [
      "0.607843137255\n"
     ]
    }
   ],
   "source": [
    "#To find accuracy of this model\n",
    "accuracy = clf_gini.score(X_test,y_test)\n",
    "print(accuracy)"
   ]
  },
  {
   "cell_type": "code",
   "execution_count": 38,
   "metadata": {
    "collapsed": false
   },
   "outputs": [
    {
     "name": "stdout",
     "output_type": "stream",
     "text": [
      "0.101439096201\n",
      "0.0658287371205\n"
     ]
    }
   ],
   "source": [
    "reg = LinearRegression()\n",
    "reg.fit(X, y)\n",
    "\n",
    "print(reg.score(np.nan_to_num(X_train),y_train))\n",
    "print(reg.score(np.nan_to_num(X_test),y_test))"
   ]
  },
  {
   "cell_type": "code",
   "execution_count": 39,
   "metadata": {
    "collapsed": false
   },
   "outputs": [
    {
     "name": "stdout",
     "output_type": "stream",
     "text": [
      "0.0658287371205\n"
     ]
    }
   ],
   "source": [
    "#To find accuracy of this model\n",
    "accuracy = reg.score(X_test,y_test)\n",
    "print(accuracy)"
   ]
  },
  {
   "cell_type": "code",
   "execution_count": null,
   "metadata": {
    "collapsed": true
   },
   "outputs": [],
   "source": []
  },
  {
   "cell_type": "code",
   "execution_count": null,
   "metadata": {
    "collapsed": true
   },
   "outputs": [],
   "source": []
  },
  {
   "cell_type": "code",
   "execution_count": null,
   "metadata": {
    "collapsed": true
   },
   "outputs": [],
   "source": []
  },
  {
   "cell_type": "code",
   "execution_count": null,
   "metadata": {
    "collapsed": true
   },
   "outputs": [],
   "source": []
  },
  {
   "cell_type": "code",
   "execution_count": null,
   "metadata": {
    "collapsed": true
   },
   "outputs": [],
   "source": []
  },
  {
   "cell_type": "code",
   "execution_count": null,
   "metadata": {
    "collapsed": true
   },
   "outputs": [],
   "source": []
  },
  {
   "cell_type": "code",
   "execution_count": null,
   "metadata": {
    "collapsed": true
   },
   "outputs": [],
   "source": []
  },
  {
   "cell_type": "code",
   "execution_count": null,
   "metadata": {
    "collapsed": true
   },
   "outputs": [],
   "source": []
  },
  {
   "cell_type": "code",
   "execution_count": null,
   "metadata": {
    "collapsed": true
   },
   "outputs": [],
   "source": []
  },
  {
   "cell_type": "code",
   "execution_count": null,
   "metadata": {
    "collapsed": true
   },
   "outputs": [],
   "source": []
  },
  {
   "cell_type": "code",
   "execution_count": null,
   "metadata": {
    "collapsed": true
   },
   "outputs": [],
   "source": []
  },
  {
   "cell_type": "code",
   "execution_count": null,
   "metadata": {
    "collapsed": true
   },
   "outputs": [],
   "source": []
  },
  {
   "cell_type": "code",
   "execution_count": null,
   "metadata": {
    "collapsed": true
   },
   "outputs": [],
   "source": []
  },
  {
   "cell_type": "code",
   "execution_count": null,
   "metadata": {
    "collapsed": true
   },
   "outputs": [],
   "source": []
  },
  {
   "cell_type": "code",
   "execution_count": null,
   "metadata": {
    "collapsed": true
   },
   "outputs": [],
   "source": []
  },
  {
   "cell_type": "code",
   "execution_count": null,
   "metadata": {
    "collapsed": true
   },
   "outputs": [],
   "source": []
  },
  {
   "cell_type": "code",
   "execution_count": null,
   "metadata": {
    "collapsed": true
   },
   "outputs": [],
   "source": []
  },
  {
   "cell_type": "code",
   "execution_count": null,
   "metadata": {
    "collapsed": true
   },
   "outputs": [],
   "source": []
  },
  {
   "cell_type": "code",
   "execution_count": null,
   "metadata": {
    "collapsed": true
   },
   "outputs": [],
   "source": []
  },
  {
   "cell_type": "code",
   "execution_count": null,
   "metadata": {
    "collapsed": true
   },
   "outputs": [],
   "source": []
  }
 ],
 "metadata": {
  "anaconda-cloud": {},
  "kernelspec": {
   "display_name": "Python [conda env:Anaconda3]",
   "language": "python",
   "name": "conda-env-Anaconda3-py"
  },
  "language_info": {
   "codemirror_mode": {
    "name": "ipython",
    "version": 3
   },
   "file_extension": ".py",
   "mimetype": "text/x-python",
   "name": "python",
   "nbconvert_exporter": "python",
   "pygments_lexer": "ipython3",
   "version": "3.5.2"
  }
 },
 "nbformat": 4,
 "nbformat_minor": 2
}
